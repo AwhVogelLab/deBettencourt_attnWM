{
 "cells": [
  {
   "cell_type": "code",
   "execution_count": 10,
   "metadata": {
    "collapsed": true
   },
   "outputs": [],
   "source": [
    "import numpy as np\n",
    "import os, sys, scipy\n",
    "import matplotlib.pyplot as plt\n",
    "import matplotlib.font_manager as fm\n",
    "from matplotlib import rc\n",
    "import scikits.bootstrap as bootstrap  \n",
    "from scipy.stats.stats import spearmanr\n",
    "import scipy.io as sio\n",
    "from necessary_analysis_scripts import prettify_plot, calculate_aprime, load_data, run_stats, run_stats_1d"
   ]
  },
  {
   "cell_type": "markdown",
   "metadata": {},
   "source": [
    "# Plotting defaults "
   ]
  },
  {
   "cell_type": "code",
   "execution_count": 11,
   "metadata": {
    "collapsed": true
   },
   "outputs": [],
   "source": [
    "#plot within jupyter notebooks\n",
    "%matplotlib inline \n",
    "\n",
    "#tab completion for files\n",
    "%config IPCompleter.greedy=True \n",
    "\n",
    "#supress scientific notation\n",
    "np.set_printoptions(suppress=True) \n",
    "\n",
    "#font defaults\n",
    "plt.rcParams.update({'font.size': 14})\n",
    "rc('text', usetex=False)\n",
    "plt.rcParams['pdf.fonttype'] = 42\n",
    "if os.path.isfile(\"/Library/Fonts/HelveticaNeue-Light.ttf\"): \n",
    "    prop = fm.FontProperties(fname=\"/Library/Fonts/HelveticaNeue-Light.ttf\",size=24)\n",
    "else:\n",
    "    prop = fm.FontProperties(size=24)\n",
    "\n",
    "#color defaults\n",
    "col_corr = [0/255.,98/255.,100/255.]\n",
    "col_incorr = [218/255.,66/255.,36/255.]"
   ]
  },
  {
   "cell_type": "markdown",
   "metadata": {},
   "source": [
    "# Load data"
   ]
  },
  {
   "cell_type": "code",
   "execution_count": 12,
   "metadata": {},
   "outputs": [
    {
     "name": "stdout",
     "output_type": "stream",
     "text": [
      "['1206181_wmPrecis01' '1206182_wmPrecis01' '1206183_wmPrecis01'\n",
      " '1207181_wmPrecis01' '1207183_wmPrecis01' '1207184_wmPrecis01'\n",
      " '1207185_wmPrecis01' '1207186_wmPrecis01' '1207187_wmPrecis01'\n",
      " '1207188_wmPrecis01' '1207189_wmPrecis01' '1208181_wmPrecis01'\n",
      " '1208182_wmPrecis01' '1208183_wmPrecis01' '1208184_wmPrecis01'\n",
      " '1208185_wmPrecis01' '1208186_wmPrecis01' '1208187_wmPrecis01'\n",
      " '1208188_wmPrecis01' '1208189_wmPrecis01' '1210181_wmPrecis01'\n",
      " '1210182_wmPrecis01' '1210183_wmPrecis01']\n",
      "23\n"
     ]
    }
   ],
   "source": [
    "#project directory \n",
    "project_name = 'expt3c'\n",
    "\n",
    "#load data \n",
    "subj_dat = load_data(project_name,behav_dir = '/')\n",
    "\n",
    "#basic project information\n",
    "nsubj = len(subj_dat)\n",
    "print(nsubj)\n",
    "nb = 4\n",
    "nt = 800\n",
    "nprobes = 160\n",
    "ninfreq = 320\n",
    "ncolors = 9\n",
    "setsize = 6"
   ]
  },
  {
   "cell_type": "markdown",
   "metadata": {},
   "source": [
    "# Working memory performance \n",
    "\n",
    "Let's examine the performance in the working memory task\n",
    "\n",
    "In this continuous report working memory task, participants respond to the color of the items by clicking along a continuous wheel"
   ]
  },
  {
   "cell_type": "code",
   "execution_count": 13,
   "metadata": {},
   "outputs": [
    {
     "name": "stdout",
     "output_type": "stream",
     "text": [
      "Working memory performance:\t 9.78 [ 9.05 10.78]\n"
     ]
    },
    {
     "data": {
      "image/png": "[encoded data removed]",
      "text/plain": [
       "<Figure size 864x432 with 2 Axes>"
      ]
     },
     "metadata": {
      "needs_background": "light"
     },
     "output_type": "display_data"
    },
    {
     "name": "stdout",
     "output_type": "stream",
     "text": [
      "0.07337360185358956 [0.05691615 0.09457156]\n",
      "71.17260306160435 [55.47849134 91.60006343]\n"
     ]
    }
   ],
   "source": [
    "bin_width=10.\n",
    "bins = np.arange(-180,180+bin_width,bin_width)\n",
    "bin_height = np.empty((nsubj,np.size(bins)-1))\n",
    "x = bins[:-1]+bin_width/2\n",
    "wm_degdiff_m=np.zeros((nsubj))\n",
    "wm_degdiff_min=np.zeros((nsubj))\n",
    "wm_degdiff_max=np.zeros((nsubj))\n",
    "\n",
    "#calculate working memory performance\n",
    "for isubj in range(nsubj):\n",
    "    iprobe = ~np.isnan(subj_dat[isubj].wm_respcolorminusorigcolor)\n",
    "    bin_height[isubj],_ = np.histogram(subj_dat[isubj].wm_respcolorminusorigcolor[iprobe],bins,density=True)\n",
    "    wm_degdiff_m[isubj] = np.mean(np.abs(subj_dat[isubj].wm_respcolorminusorigcolor[iprobe]))\n",
    "    wm_degdiff_min[isubj] = np.min(np.abs(subj_dat[isubj].wm_respcolorminusorigcolor[iprobe]))\n",
    "    wm_degdiff_max[isubj] = np.max(np.abs(subj_dat[isubj].wm_respcolorminusorigcolor[iprobe]))\n",
    "    \n",
    "#Confidence intervals\n",
    "wm_degdiff_CIs = bootstrap.ci(data=wm_degdiff_m, statfunction=scipy.mean) #confidence intervals\n",
    "print(\"Working memory performance:\\t\", np.round(np.mean(wm_degdiff_m),decimals=2), np.round(wm_degdiff_CIs,decimals=2))\n",
    "\n",
    "    \n",
    "def scatter_plot_data(ax,data,x=0):\n",
    "    n = np.size(data)\n",
    "    ax.scatter(np.ones(n)+x,data,s=200,facecolor='gray',alpha=.25,clip_on=False)#data points\n",
    "    ax.bar(1,np.mean(data),.25,color='None',edgecolor='k',linewidth=3)\n",
    "    ax.errorbar(1+x,np.mean(data),yerr=np.std(data)/np.sqrt(n),color='k',linewidth=2,capsize=5,capthick=2)#error bar\n",
    "    \n",
    "    \n",
    "fig, ax = plt.subplots(1,2,figsize=(12,6))\n",
    "ax[0].bar(x,np.mean(bin_height,axis=0),bin_width-3,color='None',edgecolor='k',linewidth=1,align='center')\n",
    "ax[0].errorbar(bins[:-1]+bin_width/2,np.mean(bin_height,axis=0),yerr=np.std(bin_height,axis=0)/np.sqrt(float(nsubj)),\n",
    "    linestyle='None',color='k',linewidth=1,capsize=0,capthick=2)\n",
    "prettify_plot(ax[0],ylrot=90,ylim=[0,.035],t='Response error histogram',\n",
    "         yt=([0,.01,.02,.03]),ytl=([0,.01,.02,.03]),yl=\"Proportion\",\n",
    "         xt=[-180,-90,0,90,180],xtl=[-180,-90,0,90,180],xl='Response error (degrees)')\n",
    "\n",
    "scatter_plot_data(ax[1],wm_degdiff_m) \n",
    "prettify_plot(ax[1],ylim=[0,90],yt=([0,30,60,90]),ytl=([0,30,60,90]),yl=\"Degrees\",ylrot=90,\n",
    "              xlim=(.75,1.25), xt=([1]),xtl=([\"\"]),t='Mean absolute error')\n",
    "\n",
    "plt.show()\n",
    "\n",
    "CIs = bootstrap.ci(data=wm_degdiff_min, statfunction=scipy.mean) #confidence intervals\n",
    "print(np.mean(wm_degdiff_min),CIs)\n",
    "\n",
    "CIs = bootstrap.ci(data=wm_degdiff_max, statfunction=scipy.mean) #confidence intervals\n",
    "print(np.mean(wm_degdiff_max),CIs)"
   ]
  },
  {
   "cell_type": "markdown",
   "metadata": {
    "collapsed": true
   },
   "source": [
    "# Mixture modeling\n",
    "\n",
    "These data can also be analyzed using mixture models, which analyze continuous report data as a von Mises + a uniform. These results were obtained using the MemToolbox in MatLab (Suchow et al 2013), the code is included as ``` expt3_mixmodel.m```\n",
    "\n",
    "The results are loaded here for analysis and plotting. Similar to the predictions for response error, we did not think that the attentional state that triggered the memory probe would impact guessing rates (g) or precision (sd). "
   ]
  },
  {
   "cell_type": "code",
   "execution_count": 14,
   "metadata": {},
   "outputs": [
    {
     "name": "stdout",
     "output_type": "stream",
     "text": [
      "Guessing (g): 1.39 [1.09 1.94]\n",
      "Precision (sd): 11.76 [11.06 12.86]\n"
     ]
    },
    {
     "data": {
      "image/png": "[encoded data removed]",
      "text/plain": [
       "<Figure size 432x432 with 2 Axes>"
      ]
     },
     "metadata": {
      "needs_background": "light"
     },
     "output_type": "display_data"
    }
   ],
   "source": [
    "mat_contents = sio.loadmat('../' + project_name +'/results/mixturemodel.mat',struct_as_record=False)\n",
    "mixmodel = mat_contents['mixmodel'][0][0].model_fit\n",
    "\n",
    "#Print 95% confidence intervals for whole report accuracy\n",
    "g = mixmodel[:,0]*100\n",
    "CIs = bootstrap.ci(data=(g), statfunction=scipy.mean,n_samples=10000)\n",
    "print(\"Guessing (g):\", np.round(np.mean(g),decimals=2), np.round(CIs,decimals=2))\n",
    "\n",
    "sd = mixmodel[:,1]\n",
    "CIs = bootstrap.ci(data=(sd), statfunction=scipy.mean,n_samples=10000)\n",
    "print(\"Precision (sd):\", np.round(np.mean(sd),decimals=2), np.round(CIs,decimals=2))\n",
    "    \n",
    "def scatter_plot_data(ax,data,x=0,c='k'):\n",
    "    n = np.size(data)\n",
    "    ax.scatter(np.zeros(n)+x,data,s=200,facecolor='gray',alpha=.15,clip_on=False)#data points\n",
    "    ax.bar(x,np.mean(data),.25,color='None',edgecolor=c,linewidth=3)\n",
    "    ax.errorbar(x,np.mean(data),yerr=np.std(data)/np.sqrt(n),color='k',linewidth=2,capsize=5,capthick=2)#error bar\n",
    "\n",
    "\n",
    "\n",
    "fig,ax = plt.subplots(1,2,figsize=(6,6))\n",
    "\n",
    "scatter_plot_data(ax[0],mixmodel[:,0]*100,x=1,c='k')\n",
    "prettify_plot(ax[0],ylim=[0,8],yt=([0,2,4,6,8]),ytl=([0,2,4,6,8]),yl=\"%\",ylrot=90,\n",
    "              xlim=(.5,1.5), xt=([1]),xtl=(['Non dual task']),\n",
    "              t='Guessing')\n",
    "\n",
    "scatter_plot_data(ax[1],mixmodel[:,1],x=1,c='k')\n",
    "prettify_plot(ax[1],ylim=[0,20], yt=([0,5,10,15,20]),ytl=([0,5,10,15,20]),yl=\"sd\",ylrot=90,\n",
    "              xlim=(.5,1.5),xt=([1]),xtl=(['Non dual task']),\n",
    "              t='Precision')\n"
   ]
  },
  {
   "cell_type": "code",
   "execution_count": 16,
   "metadata": {},
   "outputs": [
    {
     "name": "stdout",
     "output_type": "stream",
     "text": [
      "1.7246345015057059\n",
      "1.0495562038927515\n",
      "0.8013848897874685\n",
      "1.3530739683103277\n",
      "1.6697751588723113\n",
      "1.0227470785840356\n",
      "1.0859834280005012\n",
      "0.7179144447960062\n",
      "2.482752033867206\n",
      "1.5096017304746308\n",
      "0.5128832776567213\n",
      "0.6345149538504682\n",
      "1.4334514977510597\n",
      "4.832447631457675\n",
      "2.357090917099832\n",
      "1.160650778736924\n",
      "0.582043110641966\n",
      "2.9475910461368637\n",
      "0.6062922559857702\n",
      "1.4937093025514268\n",
      "0.6507534346676036\n",
      "0.7012549267037245\n",
      "0.6185551205630907\n"
     ]
    }
   ],
   "source": [
    "for isubj in range(nsubj):\n",
    "    print(g[isubj])"
   ]
  },
  {
   "cell_type": "code",
   "execution_count": null,
   "metadata": {
    "collapsed": true
   },
   "outputs": [],
   "source": []
  }
 ],
 "metadata": {
  "anaconda-cloud": {},
  "kernelspec": {
   "display_name": "Python 3",
   "language": "python",
   "name": "python3"
  },
  "language_info": {
   "codemirror_mode": {
    "name": "ipython",
    "version": 3
   },
   "file_extension": ".py",
   "mimetype": "text/x-python",
   "name": "python",
   "nbconvert_exporter": "python",
   "pygments_lexer": "ipython3",
   "version": "3.7.3"
  }
 },
 "nbformat": 4,
 "nbformat_minor": 2
}
