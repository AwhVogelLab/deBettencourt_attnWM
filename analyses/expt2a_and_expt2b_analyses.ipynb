{
 "cells": [
  {
   "cell_type": "code",
   "execution_count": 1,
   "metadata": {},
   "outputs": [],
   "source": [
    "import numpy as np\n",
    "import os, sys, scipy\n",
    "import matplotlib.pyplot as plt\n",
    "import matplotlib.font_manager as fm\n",
    "from matplotlib import rc\n",
    "import scikits.bootstrap as bootstrap  \n",
    "from scipy.stats.stats import spearmanr, zscore\n",
    "from scipy.ndimage.filters import gaussian_filter1d\n",
    "from necessary_analysis_scripts import prettify_plot, calculate_aprime, load_data, load_data_cd\n",
    "from necessary_analysis_scripts import run_stats_onetail, run_stats_twotail"
   ]
  },
  {
   "cell_type": "markdown",
   "metadata": {},
   "source": [
    "# Plotting defaults "
   ]
  },
  {
   "cell_type": "code",
   "execution_count": 2,
   "metadata": {},
   "outputs": [],
   "source": [
    "#plot within jupyter notebooks\n",
    "%matplotlib inline \n",
    "\n",
    "#tab completion for files\n",
    "%config IPCompleter.greedy=True \n",
    "\n",
    "#supress scientific notation\n",
    "np.set_printoptions(suppress=True) \n",
    "\n",
    "#font defaults\n",
    "plt.rcParams.update({'font.size': 14})\n",
    "rc('text', usetex=False)\n",
    "plt.rcParams['pdf.fonttype'] = 42\n",
    "if os.path.isfile(\"/Library/Fonts/HelveticaNeue-Light.ttf\"): \n",
    "    prop = fm.FontProperties(fname=\"/Library/Fonts/HelveticaNeue-Light.ttf\",size=24)\n",
    "else:\n",
    "    prop = fm.FontProperties(size=24)\n",
    "\n",
    "#color defaults\n",
    "col_corr = [0/255.,98/255.,100/255.]\n",
    "col_incorr = [218/255.,66/255.,36/255.]"
   ]
  },
  {
   "cell_type": "markdown",
   "metadata": {},
   "source": [
    "# Load data from Experiment 2a"
   ]
  },
  {
   "cell_type": "code",
   "execution_count": 3,
   "metadata": {},
   "outputs": [],
   "source": [
    "#load hybrid task data for both experiments\n",
    "dat_2a = load_data('expt2a')\n",
    "\n",
    "#load change detection task data\n",
    "dat_cd_2a = load_data_cd('expt2a')"
   ]
  },
  {
   "cell_type": "markdown",
   "metadata": {},
   "source": [
    "# Load data from Experiment 2b"
   ]
  },
  {
   "cell_type": "code",
   "execution_count": 4,
   "metadata": {},
   "outputs": [],
   "source": [
    "#load hybrid task data for both experiments\n",
    "dat_2b = load_data('expt2b')\n",
    "\n",
    "#load change detection task data\n",
    "dat_cd_2b = load_data_cd('expt2b')"
   ]
  },
  {
   "cell_type": "markdown",
   "metadata": {},
   "source": [
    "# Analyze data from Experiment 2a"
   ]
  },
  {
   "cell_type": "code",
   "execution_count": 5,
   "metadata": {},
   "outputs": [
    {
     "name": "stderr",
     "output_type": "stream",
     "text": [
      "/Users/megan/anaconda3/lib/python3.7/site-packages/numpy/core/fromnumeric.py:3118: RuntimeWarning: Mean of empty slice.\n",
      "  out=out, **kwargs)\n",
      "/Users/megan/anaconda3/lib/python3.7/site-packages/numpy/core/_methods.py:85: RuntimeWarning: invalid value encountered in double_scalars\n",
      "  ret = ret.dtype.type(ret / rcount)\n"
     ]
    }
   ],
   "source": [
    "#preallocate empty variables for expt 2a\n",
    "nsubj_2a = len(dat_2a)\n",
    "cd_k_2a = np.zeros(nsubj_2a)\n",
    "wm_fast_n_2a = np.zeros(nsubj_2a)\n",
    "wm_slow_n_2a = np.zeros(nsubj_2a)\n",
    "wm_n_2a = np.zeros(nsubj_2a)\n",
    "infreq_acc_2a = np.zeros(nsubj_2a)\n",
    "\n",
    "#Expt 2a\n",
    "for isubj in range(nsubj_2a):\n",
    "    #change detection\n",
    "    i_diff_probe = np.logical_and(~np.isnan(dat_cd_2a[isubj].cd_rt),dat_cd_2a[isubj].cd_same_probe==0)\n",
    "    h = np.nanmean(dat_cd_2a[isubj].cd_acc[i_diff_probe])\n",
    "    i_same_probe = np.logical_and(~np.isnan(dat_cd_2a[isubj].cd_rt),dat_cd_2a[isubj].cd_same_probe==1)\n",
    "    fa = 1-np.nanmean(dat_cd_2a[isubj].cd_acc[i_same_probe])\n",
    "    cd_k_2a[isubj] = 6*(h-fa)\n",
    "    \n",
    "    #hybrid task\n",
    "    infreq_trials = np.where(dat_2a[isubj].freq_trials==0)[0]\n",
    "    infreq_acc_2a[isubj] = np.mean(dat_2a[isubj].acc[infreq_trials]==1)\n",
    "    fast_probe_trials = np.where(dat_2a[isubj].fast_rt_trigger==1)[0]\n",
    "    wm_fast_n_2a[isubj] = np.mean(dat_2a[isubj].wholereport_respacc_total[fast_probe_trials])\n",
    "    slow_probe_trials = np.where(dat_2a[isubj].slow_rt_trigger==1)[0]\n",
    "    wm_slow_n_2a[isubj] = np.mean(dat_2a[isubj].wholereport_respacc_total[slow_probe_trials])\n",
    "    probe_trials = np.where(dat_2a[isubj].probe_trials==1)[0]\n",
    "    wm_n_2a[isubj] = np.mean(dat_2a[isubj].wholereport_respacc_total[probe_trials])"
   ]
  },
  {
   "cell_type": "markdown",
   "metadata": {},
   "source": [
    "# Analyze data from Experiment 2b"
   ]
  },
  {
   "cell_type": "code",
   "execution_count": 6,
   "metadata": {},
   "outputs": [
    {
     "name": "stderr",
     "output_type": "stream",
     "text": [
      "/Users/megan/anaconda3/lib/python3.7/site-packages/pandas/core/series.py:942: FutureWarning: \n",
      "Passing list-likes to .loc or [] with any missing label will raise\n",
      "KeyError in the future, you can use .reindex() as an alternative.\n",
      "\n",
      "See the documentation here:\n",
      "https://pandas.pydata.org/pandas-docs/stable/indexing.html#deprecate-loc-reindex-listlike\n",
      "  return self.loc[key]\n"
     ]
    }
   ],
   "source": [
    "#preallocate empty variables for expt 2b\n",
    "nsubj_2b = len(dat_2b)\n",
    "cd_k_2b = np.zeros(nsubj_2b)\n",
    "wm_fast_n_2b = np.zeros(nsubj_2b)\n",
    "wm_slow_n_2b = np.zeros(nsubj_2b)\n",
    "wm_n_2b = np.zeros(nsubj_2b)\n",
    "infreq_acc_2b = np.zeros(nsubj_2b)\n",
    "    \n",
    "for isubj in range(nsubj_2b):\n",
    "    #change detection\n",
    "    i_diff_probe = np.logical_and(~np.isnan(dat_cd_2b[isubj].cd_rt),dat_cd_2b[isubj].cd_same_probe==0)\n",
    "    h = np.nanmean(dat_cd_2b[isubj].cd_acc[i_diff_probe])\n",
    "    i_same_probe = np.logical_and(~np.isnan(dat_cd_2b[isubj].cd_rt),dat_cd_2b[isubj].cd_same_probe==1)\n",
    "    fa = 1-np.nanmean(dat_cd_2b[isubj].cd_acc[i_same_probe])\n",
    "    cd_k_2b[isubj] = 6*(h-fa)\n",
    "    \n",
    "    #excluderepeat particpants... note this is overly cautious for individual differences & doesn't change conclusions\n",
    "    if isubj==10:\n",
    "        cd_k_2b[10] = np.nan\n",
    "    elif isubj==15:\n",
    "        cd_k_2b[15] = np.nan\n",
    "        \n",
    "    #hybrid task\n",
    "    infreq_trials = np.where(dat_2b[isubj].freq_trials==0)[0]\n",
    "    infreq_acc_2b[isubj] = np.mean(dat_2b[isubj].acc[infreq_trials]==1)\n",
    "    fast_probe_trials = np.where(dat_2b[isubj].fast_rt_trigger==1)[0]\n",
    "    wm_fast_n_2b[isubj] = np.mean(dat_2b[isubj].wholereport_respacc_total[fast_probe_trials+1])\n",
    "    slow_probe_trials = np.where(dat_2b[isubj].slow_rt_trigger==1)[0]\n",
    "    wm_slow_n_2b[isubj] = np.mean(dat_2b[isubj].wholereport_respacc_total[slow_probe_trials+1])\n",
    "    probe_trials = np.where(dat_2b[isubj].probe_trials==1)[0]\n",
    "    wm_n_2b[isubj] = np.mean(dat_2b[isubj].wholereport_respacc_total[probe_trials+1])"
   ]
  },
  {
   "cell_type": "markdown",
   "metadata": {},
   "source": [
    "# Combine results from Experiments 2a and 2b"
   ]
  },
  {
   "cell_type": "code",
   "execution_count": 7,
   "metadata": {},
   "outputs": [
    {
     "name": "stdout",
     "output_type": "stream",
     "text": [
      "Expt2a&2b: mean k =  2.38 [2.04 2.68] N = 45\n"
     ]
    }
   ],
   "source": [
    "#combine results from both experiments\n",
    "cd_k = np.append(cd_k_2a,cd_k_2b)\n",
    "wm_d = np.append(wm_slow_n_2a-wm_fast_n_2a,wm_slow_n_2b-wm_fast_n_2b)\n",
    "wm_n = np.append((wm_fast_n_2a+wm_slow_n_2a)/2,(wm_fast_n_2b+wm_slow_n_2b)/2)\n",
    "\n",
    "#exclude the participants who did not complete the change detection task \n",
    "wm_d = wm_d[~np.isnan(cd_k)]\n",
    "wm_n = wm_n[~np.isnan(cd_k)]\n",
    "cd_k = cd_k[~np.isnan(cd_k)]\n",
    "\n",
    "#print mean K \n",
    "cd_k_CIs = bootstrap.ci(data=(cd_k), statfunction=scipy.mean,n_samples=10000)\n",
    "print('Expt2a&2b: mean k = ', np.round(np.nanmean(cd_k),decimals=2),np.round(cd_k_CIs,decimals=2),\"N =\", np.size(cd_k))\n"
   ]
  },
  {
   "cell_type": "markdown",
   "metadata": {},
   "source": [
    "# Correlate change detection performance with whole report working memory performance\n"
   ]
  },
  {
   "cell_type": "code",
   "execution_count": 8,
   "metadata": {},
   "outputs": [
    {
     "name": "stdout",
     "output_type": "stream",
     "text": [
      "Expt2a&2b: corr k with n, r =  0.38 \tp =  0.01001\n"
     ]
    }
   ],
   "source": [
    "#print correlation between mean K and mean # correct in whole report \n",
    "r,p = spearmanr(cd_k,wm_n)\n",
    "print('Expt2a&2b: corr k with n, r = ',np.round(r,decimals=3),'\\tp = ',np.round(p,decimals=5))\n"
   ]
  },
  {
   "cell_type": "markdown",
   "metadata": {},
   "source": [
    "# Correlate change detection performance with whole report working memory performance difference"
   ]
  },
  {
   "cell_type": "code",
   "execution_count": 9,
   "metadata": {},
   "outputs": [
    {
     "name": "stdout",
     "output_type": "stream",
     "text": [
      "Expt2a&2b: corr k with d, r =  0.104 \tp =  0.49792\n"
     ]
    }
   ],
   "source": [
    "#print correlation between mean K and difference slow minus fast\n",
    "r,p = spearmanr(cd_k,wm_d)\n",
    "print('Expt2a&2b: corr k with d, r = ',np.round(r,decimals=3),'\\tp = ',np.round(p,decimals=5))"
   ]
  },
  {
   "cell_type": "code",
   "execution_count": 10,
   "metadata": {},
   "outputs": [
    {
     "data": {
      "image/png": "[encoded data removed]",
      "text/plain": [
       "<Figure size 864x432 with 2 Axes>"
      ]
     },
     "metadata": {
      "needs_background": "light"
     },
     "output_type": "display_data"
    }
   ],
   "source": [
    "\n",
    "#plot result\n",
    "fig = plt.figure(figsize=(12,6))\n",
    "ax = plt.subplot(121)\n",
    "ax.scatter(cd_k,wm_n,200,edgecolor='None',facecolor='gray',alpha=.5,clip_on=False)\n",
    "prettify_plot(ax,ylim=([0,4]), yt=([0,1,2,3,4]),ytl=([0,1,2,3,4]),yl='Working memory probes\\n# correct',ylrot=90,\n",
    "              xlim=(-1,6), xt=([0,2,4,6]),xtl=([0,2,4,6]),xl='Change detection k',\n",
    "              t='Expt. 2a&b k correlates with average WM  performance')\n",
    "\n",
    "ax = plt.subplot(122)\n",
    "ax.scatter(cd_k,wm_d,200,edgecolor='None',facecolor='gray',alpha=.5,clip_on=False)\n",
    "prettify_plot(ax,ylim=([-1,1]), yt=([-1,-.5,0,.5,1]),ytl=([-1,-.5,0,.5,1]),yl='Slow - fast memory probes\\n# correct',ylrot=90,\n",
    "              xlim=(-1,6), xt=([0,2,4,6]),xtl=([0,2,4,6]),xl='Change detection k',\n",
    "              t='Expt. 2a&b k does not correlates with WM difference')\n",
    "plt.show()"
   ]
  },
  {
   "cell_type": "code",
   "execution_count": null,
   "metadata": {},
   "outputs": [],
   "source": []
  }
 ],
 "metadata": {
  "anaconda-cloud": {},
  "kernelspec": {
   "display_name": "Python 3",
   "language": "python",
   "name": "python3"
  },
  "language_info": {
   "codemirror_mode": {
    "name": "ipython",
    "version": 3
   },
   "file_extension": ".py",
   "mimetype": "text/x-python",
   "name": "python",
   "nbconvert_exporter": "python",
   "pygments_lexer": "ipython3",
   "version": "3.7.3"
  }
 },
 "nbformat": 4,
 "nbformat_minor": 2
}
