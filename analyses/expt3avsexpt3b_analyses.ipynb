{
 "cells": [
  {
   "cell_type": "code",
   "execution_count": 3,
   "metadata": {
    "collapsed": false
   },
   "outputs": [],
   "source": [
    "import numpy as np\n",
    "import os, sys, scipy\n",
    "import matplotlib.pyplot as plt\n",
    "import matplotlib.font_manager as fm\n",
    "from matplotlib import rc\n",
    "import scikits.bootstrap as bootstrap  \n",
    "from scipy.stats.stats import spearmanr\n",
    "import scipy.io as sio\n",
    "from necessary_analysis_scripts import prettify_plot, calculate_aprime, load_data, run_stats, run_stats_1d, run_stats_btwnsubj"
   ]
  },
  {
   "cell_type": "markdown",
   "metadata": {},
   "source": [
    "# Plotting defaults "
   ]
  },
  {
   "cell_type": "code",
   "execution_count": 4,
   "metadata": {
    "collapsed": true
   },
   "outputs": [],
   "source": [
    "#plot within jupyter notebooks\n",
    "%matplotlib inline \n",
    "\n",
    "#tab completion for files\n",
    "%config IPCompleter.greedy=True \n",
    "\n",
    "#supress scientific notation\n",
    "np.set_printoptions(suppress=True) \n",
    "\n",
    "#font defaults\n",
    "plt.rcParams.update({'font.size': 14})\n",
    "rc('text', usetex=False)\n",
    "plt.rcParams['pdf.fonttype'] = 42\n",
    "if os.path.isfile(\"/Library/Fonts/HelveticaNeue-Light.ttf\"): \n",
    "    prop = fm.FontProperties(fname=\"/Library/Fonts/HelveticaNeue-Light.ttf\",size=24)\n",
    "else:\n",
    "    prop = fm.FontProperties(size=24)\n",
    "\n",
    "#color defaults\n",
    "col_corr = [0/255.,98/255.,100/255.]\n",
    "col_incorr = [218/255.,66/255.,36/255.]"
   ]
  },
  {
   "cell_type": "markdown",
   "metadata": {},
   "source": [
    "# Load data"
   ]
  },
  {
   "cell_type": "code",
   "execution_count": 23,
   "metadata": {
    "collapsed": false
   },
   "outputs": [
    {
     "name": "stdout",
     "output_type": "stream",
     "text": [
      "['0918181_sustAttnPrecis01', '0918182_sustAttnPrecis01', '0918183_sustAttnPrecis01', '0918184_sustAttnPrecis01', '0918185_sustAttnPrecis01', '0918186_sustAttnPrecis01', '0919181_sustAttnPrecis01', '0919182_sustAttnPrecis01', '0919183_sustAttnPrecis01', '0919184_sustAttnPrecis01', '0919185_sustAttnPrecis01', '0920181_sustAttnPrecis01', '0920183_sustAttnPrecis01', '0920184_sustAttnPrecis01', '0920185_sustAttnPrecis01', '0920186_sustAttnPrecis01', '0920187_sustAttnPrecis01', '0920188_sustAttnPrecis01', '0924181_sustAttnPrecis01', '0925181_sustAttnPrecis01', '0928182_sustAttnPrecis01', '0928183_sustAttnPrecis01']\n",
      "['0109191_sustAttnPrecis02', '0111191_sustAttnPrecis02', '0111192_sustAttnPrecis02', '0111193_sustAttnPrecis02', '0114191_sustAttnPrecis02', '0114192_sustAttnPrecis02', '0114193_sustAttnPrecis02', '0114194_sustAttnPrecis02', '0116191_sustAttnPrecis02', '1212181_sustAttnPrecis02', '1212182_sustAttnPrecis02', '1213181_sustAttnPrecis02', '1213182_sustAttnPrecis02', '1214181_sustAttnPrecis02', '1214182_sustAttnPrecis02', '1214183_sustAttnPrecis02', '1214184_sustAttnPrecis02', '1214185_sustAttnPrecis02', '1214186_sustAttnPrecis02', '1214187_sustAttnPrecis02', '1214188_sustAttnPrecis02', '1218181_sustAttnPrecis02', '1219181_sustAttnPrecis02', '1219182_sustAttnPrecis02']\n",
      "['1206181_wmPrecis01' '1206182_wmPrecis01' '1206183_wmPrecis01'\n",
      " '1207181_wmPrecis01' '1207183_wmPrecis01' '1207184_wmPrecis01'\n",
      " '1207185_wmPrecis01' '1207186_wmPrecis01' '1207187_wmPrecis01'\n",
      " '1207188_wmPrecis01' '1207189_wmPrecis01' '1208181_wmPrecis01'\n",
      " '1208182_wmPrecis01' '1208183_wmPrecis01' '1208184_wmPrecis01'\n",
      " '1208185_wmPrecis01' '1208186_wmPrecis01' '1208187_wmPrecis01'\n",
      " '1208188_wmPrecis01' '1208189_wmPrecis01' '1210181_wmPrecis01'\n",
      " '1210182_wmPrecis01' '1210183_wmPrecis01']\n"
     ]
    }
   ],
   "source": [
    "#load data 3a\n",
    "project_name = 'expt3a'\n",
    "subj_dat_a = load_data(project_name)\n",
    "nsubj_a = len(subj_dat_a)\n",
    "nb_a = 4\n",
    "\n",
    "#load data 3a\n",
    "project_name = 'expt3b'\n",
    "subj_dat_b = load_data(project_name)\n",
    "nsubj_b = len(subj_dat_b)\n",
    "nb_b = 6\n",
    "\n",
    "#load data 3a\n",
    "project_name = 'expt3c'\n",
    "subj_dat_c = load_data(project_name,behav_dir = '/')\n",
    "nsubj_c = len(subj_dat_c)\n",
    "nb_b = 4\n",
    "\n",
    "\n",
    "nt = 800\n",
    "nprobes = 160\n",
    "ninfreq = 320\n",
    "ncolors = 9\n",
    "setsize = 6"
   ]
  },
  {
   "cell_type": "markdown",
   "metadata": {},
   "source": [
    "# Working memory performance \n",
    "\n",
    "Now, let's examine the performance in the working memory portion of the task\n",
    "\n",
    "In this continuous report working memory task, participants respond to the color of the items by clicking along a continuous wheel. These memory probes are rare, only occuring <=5% of the time."
   ]
  },
  {
   "cell_type": "code",
   "execution_count": 9,
   "metadata": {
    "collapsed": false
   },
   "outputs": [
    {
     "name": "stdout",
     "output_type": "stream",
     "text": [
      "17.698525838181194\n",
      "24.701746926108566\n",
      "7.003221087927372\n",
      "Parametric: ttest: t  2.45 p 9.16e-03\n",
      "Nonparametric p: = 0.003\n"
     ]
    }
   ],
   "source": [
    "wm_m_a=np.zeros((nsubj_a))\n",
    "wm_m_b=np.zeros((nsubj_b))\n",
    "\n",
    "#calculate working memory performance\n",
    "for isubj in range(nsubj_a):\n",
    "    iprobe = ~np.isnan(subj_dat_a[isubj].wm_respcolorminusorigcolor)\n",
    "    wm_m_a[isubj] = np.mean(np.abs(subj_dat_a[isubj].wm_respcolorminusorigcolor[iprobe]))\n",
    "    \n",
    "for isubj in range(nsubj_b):\n",
    "    iprobe = ~np.isnan(subj_dat_b[isubj].wm_respcolorminusorigcolor)\n",
    "    wm_m_b[isubj] = np.mean(np.abs(subj_dat_b[isubj].wm_respcolorminusorigcolor[iprobe]))\n",
    "\n",
    "print(np.mean(wm_m_a))\n",
    "print(np.mean(wm_m_b))\n",
    "CIs = bootstrap.ci(data=(wm_m_b-wm_m_a, statfunction=scipy.mean) #confidence intervals\n",
    "print(np.mean(wm_m_b)-np.mean(wm_m_a))\n",
    "print(CIs)\n",
    "run_stats_btwnsubj(wm_m_b,wm_m_a)\n"
   ]
  },
  {
   "cell_type": "markdown",
   "metadata": {
    "collapsed": true
   },
   "source": [
    "# Mixture modeling\n",
    "\n",
    "These data can also be analyzed using mixture models, which analyze continuous report data as a von Mises + a uniform. These results were obtained using the MemToolbox in MatLab (Suchow et al 2013), the code is included as ``` expt3_mixmodel.m```\n",
    "\n",
    "The results are loaded here for analysis and plotting. Similar to the predictions for response error, we did not think that the attentional state that triggered the memory probe would impact guessing rates (g) or precision (sd). "
   ]
  },
  {
   "cell_type": "code",
   "execution_count": 20,
   "metadata": {
    "collapsed": false
   },
   "outputs": [
    {
     "name": "stdout",
     "output_type": "stream",
     "text": [
      "Guessing: 7.13 [5.22 9.34]\n",
      "Precision sd: 17.02 [15.65 18.5 ]\n",
      "Guessing: 17.92 [13.27 24.41]\n",
      "Precision sd: 15.46 [14.27 17.41]\n",
      "7.125542000271171\n",
      "17.920872593118986\n",
      "10.795330592847815\n",
      "[14.26616337 17.4057229 ]\n",
      "Parametric: ttest: t  3.38 p 7.53e-04\n",
      "Nonparametric p < 0.001\n",
      "17.021338819714067\n",
      "15.461987515750925\n",
      "-1.5593513039631421\n",
      "[14.26616337 17.4057229 ]\n",
      "Parametric: ttest: t  -1.45 p 7.70e-02\n",
      "Nonparametric p: = 0.930\n"
     ]
    }
   ],
   "source": [
    "mat_contents = sio.loadmat('../expt3a/results/mixturemodel.mat',struct_as_record=False)\n",
    "mixmodel_model_fit = mat_contents['mixmodel'][0][0].model_fit\n",
    "mixmodel_fast_model_fit = mat_contents['mixmodel_fast'][0][0].model_fit\n",
    "mixmodel_slow_model_fit = mat_contents['mixmodel_slow'][0][0].model_fit\n",
    "\n",
    "#Print means and 95% confidence intervals\n",
    "g_a = mixmodel_model_fit[:,0]*100\n",
    "sd_a = mixmodel_model_fit[:,1]\n",
    "CIs = bootstrap.ci(data=(g_a), statfunction=scipy.mean,n_samples=10000)\n",
    "print(\"Guessing:\", np.round(np.mean(g_a),decimals=2), np.round(CIs,decimals=2))\n",
    "CIs = bootstrap.ci(data=(sd_a), statfunction=scipy.mean,n_samples=10000)\n",
    "print(\"Precision sd:\", np.round(np.mean(sd_a),decimals=2), np.round(CIs,decimals=2))\n",
    "\n",
    "\n",
    "mat_contents = sio.loadmat('../expt3b/results/mixturemodel.mat',struct_as_record=False)\n",
    "mixmodel_model_fit = mat_contents['mixmodel'][0][0].model_fit\n",
    "mixmodel_fast_model_fit = mat_contents['mixmodel_fast'][0][0].model_fit\n",
    "mixmodel_slow_model_fit = mat_contents['mixmodel_slow'][0][0].model_fit\n",
    "\n",
    "#Print means and 95% confidence intervals\n",
    "g_b = mixmodel_model_fit[:,0]*100\n",
    "sd_b = mixmodel_model_fit[:,1]\n",
    "CIs = bootstrap.ci(data=(g_b), statfunction=scipy.mean,n_samples=10000)\n",
    "print(\"Guessing:\", np.round(np.mean(g_b),decimals=2), np.round(CIs,decimals=2))\n",
    "CIs = bootstrap.ci(data=(sd_b), statfunction=scipy.mean,n_samples=10000)\n",
    "print(\"Precision sd:\", np.round(np.mean(sd_b),decimals=2), np.round(CIs,decimals=2))\n",
    "\n",
    "print(np.mean(g_a))\n",
    "print(np.mean(g_b))\n",
    "#CIs = bootstrap.ci(data=(g_b-g_a, statfunction=scipy.mean) #confidence intervals\n",
    "print(np.mean(g_b)-np.mean(g_a))\n",
    "print(CIs)\n",
    "run_stats_btwnsubj(g_b,g_a)\n",
    "\n",
    "print(np.mean(sd_a))\n",
    "print(np.mean(sd_b))\n",
    "#CIs = bootstrap.ci(data=(g_b-g_a, statfunction=scipy.mean) #confidence intervals\n",
    "print(np.mean(sd_b)-np.mean(sd_a))\n",
    "print(CIs)\n",
    "run_stats_btwnsubj(sd_b,sd_a)"
   ]
  },
  {
   "cell_type": "code",
   "execution_count": 28,
   "metadata": {
    "collapsed": false
   },
   "outputs": [
    {
     "data": {
      "text/plain": [
       "9.670758663836548"
      ]
     },
     "execution_count": 28,
     "metadata": {},
     "output_type": "execute_result"
    }
   ],
   "source": [
    "np.mean(np.abs(subj_dat_c[0].wm_respcolorminusorigcolor))"
   ]
  },
  {
   "cell_type": "code",
   "execution_count": 30,
   "metadata": {
    "collapsed": false
   },
   "outputs": [
    {
     "name": "stdout",
     "output_type": "stream",
     "text": [
      "17.698525838181194\n",
      "9.777230283570653\n",
      "7.921295554610541\n",
      "Parametric: ttest: t  6.34 p 5.87e-08\n",
      "Nonparametric p < 0.001\n"
     ]
    }
   ],
   "source": [
    "wm_m_a=np.zeros((nsubj_a))\n",
    "wm_m_c=np.zeros((nsubj_c))\n",
    "\n",
    "#calculate working memory performance\n",
    "for isubj in range(nsubj_a):\n",
    "    iprobe = ~np.isnan(subj_dat_a[isubj].wm_respcolorminusorigcolor)\n",
    "    wm_m_a[isubj] = np.mean(np.abs(subj_dat_a[isubj].wm_respcolorminusorigcolor[iprobe]))\n",
    "    \n",
    "for isubj in range(nsubj_c):\n",
    "    wm_m_c[isubj] = np.mean(np.abs(subj_dat_c[isubj].wm_respcolorminusorigcolor))\n",
    "\n",
    "print(np.mean(wm_m_a))\n",
    "print(np.mean(wm_m_c))\n",
    "#CIs = bootstrap.ci(data=(wm_m_a-wm_m_c, statfunction=scipy.mean) #confidence intervals\n",
    "print(np.mean(wm_m_a)-np.mean(wm_m_c))\n",
    "#print(CIs)\n",
    "run_stats_btwnsubj(wm_m_a,wm_m_c)"
   ]
  },
  {
   "cell_type": "code",
   "execution_count": 34,
   "metadata": {
    "collapsed": false
   },
   "outputs": [
    {
     "name": "stdout",
     "output_type": "stream",
     "text": [
      "Guessing: 7.13 [5.28 9.39]\n",
      "Precision sd: 17.02 [15.63 18.49]\n",
      "Guessing: 1.39 [1.09 1.95]\n",
      "Precision sd: 11.76 [11.06 12.89]\n",
      "7.125542000271171\n",
      "1.3890722474736552\n",
      "5.7364697527975155\n",
      "[11.05842323 12.89337   ]\n",
      "Parametric: ttest: t  5.43 p 1.23e-06\n",
      "Nonparametric p < 0.001\n",
      "17.021338819714067\n",
      "11.762826223991294\n",
      "5.258512595722774\n",
      "[11.05842323 12.89337   ]\n",
      "Parametric: ttest: t  6.1 p 1.29e-07\n",
      "Nonparametric p < 0.001\n"
     ]
    }
   ],
   "source": [
    "mat_contents = sio.loadmat('../expt3a/results/mixturemodel.mat',struct_as_record=False)\n",
    "mixmodel_model_fit = mat_contents['mixmodel'][0][0].model_fit\n",
    "mixmodel_fast_model_fit = mat_contents['mixmodel_fast'][0][0].model_fit\n",
    "mixmodel_slow_model_fit = mat_contents['mixmodel_slow'][0][0].model_fit\n",
    "\n",
    "#Print means and 95% confidence intervals\n",
    "g_a = mixmodel_model_fit[:,0]*100\n",
    "sd_a = mixmodel_model_fit[:,1]\n",
    "CIs = bootstrap.ci(data=(g_a), statfunction=scipy.mean,n_samples=10000)\n",
    "print(\"Guessing:\", np.round(np.mean(g_a),decimals=2), np.round(CIs,decimals=2))\n",
    "CIs = bootstrap.ci(data=(sd_a), statfunction=scipy.mean,n_samples=10000)\n",
    "print(\"Precision sd:\", np.round(np.mean(sd_a),decimals=2), np.round(CIs,decimals=2))\n",
    "\n",
    "\n",
    "mat_contents = sio.loadmat('../expt3c/results/mixturemodel.mat',struct_as_record=False)\n",
    "mixmodel_model_fit = mat_contents['mixmodel'][0][0].model_fit\n",
    "\n",
    "#Print means and 95% confidence intervals\n",
    "g_c = mixmodel_model_fit[:,0]*100\n",
    "sd_c = mixmodel_model_fit[:,1]\n",
    "CIs = bootstrap.ci(data=(g_c), statfunction=scipy.mean,n_samples=10000)\n",
    "print(\"Guessing:\", np.round(np.mean(g_c),decimals=2), np.round(CIs,decimals=2))\n",
    "CIs = bootstrap.ci(data=(sd_c), statfunction=scipy.mean,n_samples=10000)\n",
    "print(\"Precision sd:\", np.round(np.mean(sd_c),decimals=2), np.round(CIs,decimals=2))\n",
    "\n",
    "print(np.mean(g_a))\n",
    "print(np.mean(g_c))\n",
    "#CIs = bootstrap.ci(data=(g_b-g_a, statfunction=scipy.mean) #confidence intervals\n",
    "print(np.mean(g_a)-np.mean(g_c))\n",
    "print(CIs)\n",
    "run_stats_btwnsubj(g_a,g_c)\n",
    "\n",
    "print(np.mean(sd_a))\n",
    "print(np.mean(sd_c))\n",
    "#CIs = bootstrap.ci(data=(g_b-g_a, statfunction=scipy.mean) #confidence intervals\n",
    "print(np.mean(sd_a)-np.mean(sd_c))\n",
    "print(CIs)\n",
    "run_stats_btwnsubj(sd_a,sd_c)"
   ]
  },
  {
   "cell_type": "code",
   "execution_count": null,
   "metadata": {
    "collapsed": false
   },
   "outputs": [],
   "source": [
    "for i in range(nsubj): \n",
    "    print(str(mixmodel_slow_model_fit[i,1])+',')\n",
    "print('\\n')\n",
    "for i in range(nsubj):\n",
    "    print(str(mixmodel_fast_model_fit[i,1])+',')\n",
    "print('\\n')\n",
    "for i in range(nsubj):\n",
    "    print(str(mixmodel_slow_model_fit[i,1]-mixmodel_fast_model_fit[i,1])+',')"
   ]
  },
  {
   "cell_type": "code",
   "execution_count": null,
   "metadata": {
    "collapsed": false
   },
   "outputs": [],
   "source": [
    "print(\"guessing correlation\")\n",
    "r,p =spearmanr(infreq_acc,mixmodel_model_fit[:,0]*100)\n",
    "print(r,p)\n",
    "\n",
    "print(\"precision correlation\")\n",
    "r,p = spearmanr(infreq_acc,mixmodel_model_fit[:,1])\n",
    "print(r,p)"
   ]
  },
  {
   "cell_type": "code",
   "execution_count": null,
   "metadata": {
    "collapsed": true
   },
   "outputs": [],
   "source": []
  }
 ],
 "metadata": {
  "anaconda-cloud": {},
  "kernelspec": {
   "display_name": "Python 3",
   "language": "python",
   "name": "python3"
  },
  "language_info": {
   "codemirror_mode": {
    "name": "ipython",
    "version": 3
   },
   "file_extension": ".py",
   "mimetype": "text/x-python",
   "name": "python",
   "nbconvert_exporter": "python",
   "pygments_lexer": "ipython3",
   "version": "3.7.0"
  }
 },
 "nbformat": 4,
 "nbformat_minor": 2
}
